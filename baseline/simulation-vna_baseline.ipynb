{
 "cells": [
  {
   "cell_type": "code",
   "execution_count": 1,
   "id": "85456303",
   "metadata": {
    "execution": {
     "iopub.execute_input": "2022-06-09T00:53:43.248881Z",
     "iopub.status.busy": "2022-06-09T00:53:43.245582Z",
     "iopub.status.idle": "2022-06-09T00:53:43.837278Z",
     "shell.execute_reply": "2022-06-09T00:53:43.836386Z"
    },
    "papermill": {
     "duration": 0.599028,
     "end_time": "2022-06-09T00:53:43.839938",
     "exception": false,
     "start_time": "2022-06-09T00:53:43.240910",
     "status": "completed"
    },
    "tags": []
   },
   "outputs": [],
   "source": [
    "import numpy as np\n",
    "from scipy.integrate import odeint\n",
    "import matplotlib.pyplot as plt"
   ]
  },
  {
   "cell_type": "code",
   "execution_count": 2,
   "id": "f509f6bb",
   "metadata": {
    "execution": {
     "iopub.execute_input": "2022-06-09T00:53:43.845657Z",
     "iopub.status.busy": "2022-06-09T00:53:43.845262Z",
     "iopub.status.idle": "2022-06-09T00:53:44.110183Z",
     "shell.execute_reply": "2022-06-09T00:53:44.108819Z"
    },
    "papermill": {
     "duration": 0.270876,
     "end_time": "2022-06-09T00:53:44.113083",
     "exception": false,
     "start_time": "2022-06-09T00:53:43.842207",
     "status": "completed"
    },
    "tags": []
   },
   "outputs": [
    {
     "name": "stderr",
     "output_type": "stream",
     "text": [
      "/opt/conda/lib/python3.7/site-packages/ipykernel_launcher.py:43: MatplotlibDeprecationWarning: The 'b' parameter of grid() has been renamed 'visible' since Matplotlib 3.5; support for the old name will be dropped two minor releases later.\n"
     ]
    },
    {
     "data": {
      "image/png": "[encoded data removed]",
      "text/plain": [
       "<Figure size 432x288 with 1 Axes>"
      ]
     },
     "metadata": {},
     "output_type": "display_data"
    }
   ],
   "source": [
    "# Initial conditions\n",
    "\n",
    "V0 = 88.5\n",
    "N0 = 9.5\n",
    "A0 = 2\n",
    "\n",
    "# A grid of time points\n",
    "t = np.linspace(0, 100, 1000) \n",
    "\n",
    "#parameters\n",
    "Kvn = 0\n",
    "Kan =  0.1424\n",
    "Kva = 0.04223\n",
    "Kav = 0\n",
    "\n",
    "# The model differential equations.\n",
    "def deriv(y, t, Kvn, Kan, Kva, Kav):\n",
    "    V, A, N = y\n",
    "    dVdt = -(Kva + Kvn) * V + Kav * A\n",
    "    dAdt = Kva * V - (Kav + Kan) * A\n",
    "    dNdt = Kvn * V + Kan * A\n",
    "\n",
    "    return dVdt, dAdt, dNdt\n",
    "\n",
    "\n",
    "# Initial conditions vector\n",
    "y0 = V0, N0, A0\n",
    "# Integrate the equations over the time grid, t.\n",
    "ret = odeint(deriv, y0, t, args=(Kvn, Kan, Kva, Kav))\n",
    "V, N, A = ret.T\n",
    "\n",
    "# Plot the data on two separate curves\n",
    "fig = plt.figure(facecolor='w')\n",
    "ax = fig.add_subplot(111, facecolor='#dddddd', axisbelow=True)\n",
    "ax.plot(t, V, 'red', alpha=0.5, lw=3, label='Vital', linestyle='dashed')\n",
    "ax.plot(t, N, 'green', alpha=0.5, lw=3, label='Netrotic', linestyle='dashed')\n",
    "ax.plot(t, A, 'blue', alpha=0.5, lw=3, label='Apoptotic', linestyle='dashed')\n",
    "\n",
    "ax.set_xlabel('Time /hours')\n",
    "ax.set_xlabel('Cell Proportion /%')\n",
    "ax.yaxis.set_tick_params(length=0)\n",
    "ax.xaxis.set_tick_params(length=0)\n",
    "ax.grid(b=True, which='major', c='w', lw=2, ls='-')\n",
    "legend = ax.legend()\n",
    "legend.get_frame().set_alpha(0.5)\n",
    "for spine in ('top', 'right', 'bottom', 'left'):\n",
    "    ax.spines[spine].set_visible(False)\n",
    "plt.show()"
   ]
  },
  {
   "cell_type": "code",
   "execution_count": 3,
   "id": "b9dbd89a",
   "metadata": {
    "execution": {
     "iopub.execute_input": "2022-06-09T00:53:44.120756Z",
     "iopub.status.busy": "2022-06-09T00:53:44.119756Z",
     "iopub.status.idle": "2022-06-09T00:53:44.131780Z",
     "shell.execute_reply": "2022-06-09T00:53:44.130515Z"
    },
    "papermill": {
     "duration": 0.018563,
     "end_time": "2022-06-09T00:53:44.134465",
     "exception": false,
     "start_time": "2022-06-09T00:53:44.115902",
     "status": "completed"
    },
    "tags": []
   },
   "outputs": [],
   "source": [
    "#save to csv file\n",
    "a = np.asarray([t, V, A, N]) \n",
    "\n",
    "np.savetxt(\"VAN_CDA_HSB2_-7.csv\", a, delimiter=\",\")"
   ]
  }
 ],
 "metadata": {
  "kernelspec": {
   "display_name": "Python 3",
   "language": "python",
   "name": "python3"
  },
  "language_info": {
   "codemirror_mode": {
    "name": "ipython",
    "version": 3
   },
   "file_extension": ".py",
   "mimetype": "text/x-python",
   "name": "python",
   "nbconvert_exporter": "python",
   "pygments_lexer": "ipython3",
   "version": "3.7.12"
  },
  "papermill": {
   "default_parameters": {},
   "duration": 13.4335,
   "end_time": "2022-06-09T00:53:44.864024",
   "environment_variables": {},
   "exception": null,
   "input_path": "__notebook__.ipynb",
   "output_path": "__notebook__.ipynb",
   "parameters": {},
   "start_time": "2022-06-09T00:53:31.430524",
   "version": "2.3.4"
  }
 },
 "nbformat": 4,
 "nbformat_minor": 5
}
